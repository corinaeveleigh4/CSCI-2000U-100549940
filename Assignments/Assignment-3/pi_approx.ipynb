{
 "cells": [
  {
   "cell_type": "code",
   "execution_count": 1,
   "metadata": {
    "collapsed": true
   },
   "outputs": [],
   "source": [
    "# Corina Eveleigh\n",
    "# Student Number: 100549940"
   ]
  },
  {
   "cell_type": "code",
   "execution_count": 12,
   "metadata": {
    "collapsed": false
   },
   "outputs": [
    {
     "ename": "SyntaxError",
     "evalue": "invalid syntax (<ipython-input-12-6278456c571f>, line 16)",
     "output_type": "error",
     "traceback": [
      "\u001b[1;36m  File \u001b[1;32m\"<ipython-input-12-6278456c571f>\"\u001b[1;36m, line \u001b[1;32m16\u001b[0m\n\u001b[1;33m    def func[rho_n, tau_n, mu_n]\u001b[0m\n\u001b[1;37m            ^\u001b[0m\n\u001b[1;31mSyntaxError\u001b[0m\u001b[1;31m:\u001b[0m invalid syntax\n"
     ]
    }
   ],
   "source": [
    "def rho_n(n):\n",
    "    for k in range(1, n+1):\n",
    "        result [(-1)^(k+1)]/ [(2 * k) - 1]\n",
    "    return (result * 4)\n",
    "\n",
    "def tau_n(n):\n",
    "    for k in range(1, n+1):\n",
    "        result [[1 / (k^2)]^1/2]\n",
    "    return (result * (6)^1/2)\n",
    "\n",
    "def mu_n(n):\n",
    "    for k in range(1, n+1):\n",
    "        result [[1 / (k^4)]^1/4]\n",
    "    return (result * 90^1/4)\n",
    "\n",
    "def func[rho_n, tau_n, mu_n]\n",
    "\n",
    "def function(func, n)\n",
    "print (\"When n = (i), func_name = func\")\n",
    "\n",
    "for i in [10, 100, 1000, 10000, 100000, 1000000]:\n",
    "    for k in [rho_n, tau_n, mu_n]:\n",
    "       print (k, i)\n"
   ]
  },
  {
   "cell_type": "code",
   "execution_count": null,
   "metadata": {
    "collapsed": true
   },
   "outputs": [],
   "source": []
  }
 ],
 "metadata": {
  "kernelspec": {
   "display_name": "Python 3",
   "language": "python",
   "name": "python3"
  },
  "language_info": {
   "codemirror_mode": {
    "name": "ipython",
    "version": 3
   },
   "file_extension": ".py",
   "mimetype": "text/x-python",
   "name": "python",
   "nbconvert_exporter": "python",
   "pygments_lexer": "ipython3",
   "version": "3.4.3"
  }
 },
 "nbformat": 4,
 "nbformat_minor": 0
}
