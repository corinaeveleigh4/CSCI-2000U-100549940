{
 "cells": [
  {
   "cell_type": "code",
   "execution_count": 1,
   "metadata": {
    "collapsed": true
   },
   "outputs": [],
   "source": [
    "# Corina Eveleigh\n",
    "# Student Number: 100549940"
   ]
  },
  {
   "cell_type": "code",
   "execution_count": 2,
   "metadata": {
    "collapsed": false
   },
   "outputs": [
    {
     "ename": "SyntaxError",
     "evalue": "invalid syntax (<ipython-input-2-287bdb042efb>, line 16)",
     "output_type": "error",
     "traceback": [
      "\u001b[1;36m  File \u001b[1;32m\"<ipython-input-2-287bdb042efb>\"\u001b[1;36m, line \u001b[1;32m16\u001b[0m\n\u001b[1;33m    def func('rho_n', 'tau_n', 'mu_n')\u001b[0m\n\u001b[1;37m                   ^\u001b[0m\n\u001b[1;31mSyntaxError\u001b[0m\u001b[1;31m:\u001b[0m invalid syntax\n"
     ]
    }
   ],
   "source": [
    "def rho_n(n):\n",
    "    for k in range(1, n+1):\n",
    "        result [(-1)^(k+1)]/ [(2 * k) - 1]\n",
    "    return (result * 4)\n",
    "\n",
    "def tau_n(n):\n",
    "    for k in range(1, n+1):\n",
    "        result [[1 / (k^2)]^1/2]\n",
    "    return (result * (6)^1/2)\n",
    "\n",
    "def mu_n(n):\n",
    "    for k in range(1, n+1):\n",
    "        result [[1 / (k^4)]^1/4]\n",
    "    return (result * 90^1/4)\n",
    "\n",
    "def func('rho_n', 'tau_n', 'mu_n')\n",
    "\n",
    "def function(func, n)\n",
    "print (\"When n = (i), func_name = func\")\n",
    "\n",
    "for i in [10, 100, 1000, 10000, 100000, 1000000]:\n",
    "    for k in [rho_n, tau_n, mu_n]:\n",
    "       print (k, i)\n"
   ]
  },
  {
   "cell_type": "code",
   "execution_count": 5,
   "metadata": {
    "collapsed": false
   },
   "outputs": [
    {
     "name": "stdout",
     "output_type": "stream",
     "text": [
      "3.0418396189294032\n"
     ]
    }
   ],
   "source": [
    "# Solution:\n",
    "\n",
    "def rho(n):\n",
    "    r = 0\n",
    "    for k in range(1, n+1):\n",
    "        r += ((-1)**(k+1)) / (2*k-1)\n",
    "    r *= 4\n",
    "    return r\n",
    "\n",
    "print(rho(10))\n",
    "\n"
   ]
  },
  {
   "cell_type": "code",
   "execution_count": 6,
   "metadata": {
    "collapsed": false
   },
   "outputs": [
    {
     "name": "stdout",
     "output_type": "stream",
     "text": [
      "3.04936163598207\n"
     ]
    }
   ],
   "source": [
    "\n",
    "\n",
    "def tau(n):\n",
    "    r = 0\n",
    "    for k in range(1, n+1):\n",
    "        r += 1/(k**2)\n",
    "    r *= 6\n",
    "    r = r**(1/2)\n",
    "    return r\n",
    "\n",
    "print(tau(10))\n"
   ]
  },
  {
   "cell_type": "code",
   "execution_count": 7,
   "metadata": {
    "collapsed": false
   },
   "outputs": [
    {
     "name": "stdout",
     "output_type": "stream",
     "text": [
      "3.1413846224669713\n"
     ]
    }
   ],
   "source": [
    "def mu(n):\n",
    "    r = 0\n",
    "    for k in range(1, n+1):\n",
    "        r += 1/(k**4)\n",
    "    r *= 90\n",
    "    r = r**(1/4)\n",
    "    return r\n",
    "\n",
    "print(mu(10))\n"
   ]
  },
  {
   "cell_type": "code",
   "execution_count": 8,
   "metadata": {
    "collapsed": false
   },
   "outputs": [
    {
     "name": "stdout",
     "output_type": "stream",
     "text": [
      "When n =      10, rho_n = 3.04183961893\n",
      "When n =      10, tau_n = 3.04936163598\n",
      "When n =      10,  mu_n = 3.14138462247\n",
      "When n =     100, rho_n = 3.13159290356\n",
      "When n =     100, tau_n = 3.13207653181\n",
      "When n =     100,  mu_n = 3.14159241531\n",
      "When n =    1000, rho_n = 3.14059265384\n",
      "When n =    1000, tau_n = 3.14063805621\n",
      "When n =    1000,  mu_n = 3.14159265335\n",
      "When n =   10000, rho_n = 3.14149265359\n",
      "When n =   10000, tau_n = 3.14149716395\n",
      "When n =   10000,  mu_n = 3.14159265359\n",
      "When n =  100000, rho_n = 3.14158265359\n",
      "When n =  100000, tau_n = 3.14158310433\n",
      "When n =  100000,  mu_n = 3.14159265359\n",
      "When n = 1000000, rho_n = 3.14159165359\n",
      "When n = 1000000, tau_n = 3.14159169866\n",
      "When n = 1000000,  mu_n = 3.14159265359\n"
     ]
    }
   ],
   "source": [
    "r = [10, 100, 1000, 10000, 100000, 1000000]\n",
    "for n in r:\n",
    "    print(\"When n = %7d, rho_n = %.11f\" % (n, rho(n)))\n",
    "    print(\"When n = %7d, tau_n = %.11f\" % (n, tau(n)))\n",
    "    print(\"When n = %7d,  mu_n = %.11f\" % (n,  mu(n)))"
   ]
  }
 ],
 "metadata": {
  "kernelspec": {
   "display_name": "Python 3",
   "language": "python",
   "name": "python3"
  },
  "language_info": {
   "codemirror_mode": {
    "name": "ipython",
    "version": 3
   },
   "file_extension": ".py",
   "mimetype": "text/x-python",
   "name": "python",
   "nbconvert_exporter": "python",
   "pygments_lexer": "ipython3",
   "version": "3.4.3"
  }
 },
 "nbformat": 4,
 "nbformat_minor": 0
}
