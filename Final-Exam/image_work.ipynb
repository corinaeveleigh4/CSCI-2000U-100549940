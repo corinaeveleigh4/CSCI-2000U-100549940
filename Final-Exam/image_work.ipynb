{
 "cells": [
  {
   "cell_type": "code",
   "execution_count": 36,
   "metadata": {
    "collapsed": true
   },
   "outputs": [],
   "source": [
    "%matplotlib inline"
   ]
  },
  {
   "cell_type": "code",
   "execution_count": 37,
   "metadata": {
    "collapsed": false
   },
   "outputs": [],
   "source": [
    "import numpy as np\n",
    "import matplotlib.pyplot as plt\n"
   ]
  },
  {
   "cell_type": "code",
   "execution_count": 40,
   "metadata": {
    "collapsed": false
   },
   "outputs": [
    {
     "ename": "AttributeError",
     "evalue": "'module' object has no attribute 'peppers'",
     "output_type": "error",
     "traceback": [
      "\u001b[1;31m---------------------------------------------------------------------------\u001b[0m",
      "\u001b[1;31mAttributeError\u001b[0m                            Traceback (most recent call last)",
      "\u001b[1;32m<ipython-input-40-a9d511bf5db1>\u001b[0m in \u001b[0;36m<module>\u001b[1;34m()\u001b[0m\n\u001b[0;32m      1\u001b[0m \u001b[1;32mimport\u001b[0m \u001b[0mscipy\u001b[0m\u001b[1;33m\u001b[0m\u001b[0m\n\u001b[1;32m----> 2\u001b[1;33m \u001b[0ml\u001b[0m \u001b[1;33m=\u001b[0m \u001b[0mscipy\u001b[0m\u001b[1;33m.\u001b[0m\u001b[0mpeppers\u001b[0m\u001b[1;33m(\u001b[0m\u001b[1;33m)\u001b[0m\u001b[1;33m\u001b[0m\u001b[0m\n\u001b[0m\u001b[0;32m      3\u001b[0m \u001b[1;32mfrom\u001b[0m \u001b[0mscipy\u001b[0m \u001b[1;32mimport\u001b[0m \u001b[0mmisc\u001b[0m\u001b[1;33m\u001b[0m\u001b[0m\n\u001b[0;32m      4\u001b[0m \u001b[0mmisc\u001b[0m\u001b[1;33m.\u001b[0m\u001b[0mimsave\u001b[0m\u001b[1;33m(\u001b[0m\u001b[1;34m'peppers.png'\u001b[0m\u001b[1;33m,\u001b[0m \u001b[0ml\u001b[0m\u001b[1;33m)\u001b[0m\u001b[1;33m\u001b[0m\u001b[0m\n\u001b[0;32m      5\u001b[0m \u001b[0mplt\u001b[0m\u001b[1;33m.\u001b[0m\u001b[0mimshow\u001b[0m\u001b[1;33m(\u001b[0m\u001b[0mpeppers\u001b[0m\u001b[1;33m)\u001b[0m\u001b[1;33m\u001b[0m\u001b[0m\n",
      "\u001b[1;31mAttributeError\u001b[0m: 'module' object has no attribute 'peppers'"
     ]
    }
   ],
   "source": [
    "import scipy\n",
    "l = scipy.peppers()\n",
    "from scipy import misc\n",
    "misc.imsave('peppers.png', l)\n",
    "plt.imshow(peppers)\n",
    "plt.show()"
   ]
  },
  {
   "cell_type": "markdown",
   "metadata": {},
   "source": [
    "plt.imshow(face)\n",
    "plt.show()"
   ]
  },
  {
   "cell_type": "code",
   "execution_count": 22,
   "metadata": {
    "collapsed": false
   },
   "outputs": [
    {
     "ename": "AttributeError",
     "evalue": "'module' object has no attribute 'lena'",
     "output_type": "error",
     "traceback": [
      "\u001b[1;31m---------------------------------------------------------------------------\u001b[0m",
      "\u001b[1;31mAttributeError\u001b[0m                            Traceback (most recent call last)",
      "\u001b[1;32m<ipython-input-22-d2576c9f79bc>\u001b[0m in \u001b[0;36m<module>\u001b[1;34m()\u001b[0m\n\u001b[0;32m      1\u001b[0m \u001b[1;32mimport\u001b[0m \u001b[0mscipy\u001b[0m\u001b[1;33m\u001b[0m\u001b[0m\n\u001b[1;32m----> 2\u001b[1;33m \u001b[0ml\u001b[0m \u001b[1;33m=\u001b[0m \u001b[0mscipy\u001b[0m\u001b[1;33m.\u001b[0m\u001b[0mlena\u001b[0m\u001b[1;33m(\u001b[0m\u001b[1;33m)\u001b[0m\u001b[1;33m\u001b[0m\u001b[0m\n\u001b[0m\u001b[0;32m      3\u001b[0m \u001b[1;32mfrom\u001b[0m \u001b[0mscipy\u001b[0m \u001b[1;32mimport\u001b[0m \u001b[0mmisc\u001b[0m\u001b[1;33m\u001b[0m\u001b[0m\n\u001b[0;32m      4\u001b[0m \u001b[0mmisc\u001b[0m\u001b[1;33m.\u001b[0m\u001b[0mimsave\u001b[0m\u001b[1;33m(\u001b[0m\u001b[1;34m'lena.png'\u001b[0m\u001b[1;33m,\u001b[0m \u001b[0ml\u001b[0m\u001b[1;33m)\u001b[0m\u001b[1;33m\u001b[0m\u001b[0m\n",
      "\u001b[1;31mAttributeError\u001b[0m: 'module' object has no attribute 'lena'"
     ]
    }
   ],
   "source": []
  },
  {
   "cell_type": "code",
   "execution_count": 43,
   "metadata": {
    "collapsed": false
   },
   "outputs": [
    {
     "data": {
      "text/plain": [
       "array([[[ 0.24313726,  0.11372549,  0.25098041],\n",
       "        [ 0.24705882,  0.12156863,  0.25098041],\n",
       "        [ 0.24705882,  0.13333334,  0.25098041],\n",
       "        ..., \n",
       "        [ 0.25098041,  0.11372549,  0.22352941],\n",
       "        [ 0.24705882,  0.10980392,  0.21568628],\n",
       "        [ 0.25098041,  0.10980392,  0.21568628]],\n",
       "\n",
       "       [[ 0.24705882,  0.12156863,  0.24313726],\n",
       "        [ 0.23921569,  0.12156863,  0.25098041],\n",
       "        [ 0.23137255,  0.1254902 ,  0.25098041],\n",
       "        ..., \n",
       "        [ 0.23921569,  0.10588235,  0.21568628],\n",
       "        [ 0.22745098,  0.10588235,  0.21176471],\n",
       "        [ 0.21960784,  0.10588235,  0.21960784]],\n",
       "\n",
       "       [[ 0.25490198,  0.11372549,  0.23529412],\n",
       "        [ 0.24705882,  0.11764706,  0.24313726],\n",
       "        [ 0.24705882,  0.12156863,  0.24705882],\n",
       "        ..., \n",
       "        [ 0.25098041,  0.10196079,  0.21568628],\n",
       "        [ 0.24313726,  0.10588235,  0.22352941],\n",
       "        [ 0.22352941,  0.10588235,  0.22352941]],\n",
       "\n",
       "       ..., \n",
       "       [[ 0.46666667,  0.27843139,  0.53333336],\n",
       "        [ 0.4627451 ,  0.27058825,  0.53333336],\n",
       "        [ 0.47058824,  0.28627452,  0.5529412 ],\n",
       "        ..., \n",
       "        [ 0.17647059,  0.08235294,  0.17647059],\n",
       "        [ 0.17647059,  0.09411765,  0.18039216],\n",
       "        [ 0.15686275,  0.09411765,  0.16470589]],\n",
       "\n",
       "       [[ 0.44313726,  0.27058825,  0.50980395],\n",
       "        [ 0.43529412,  0.27058825,  0.51764709],\n",
       "        [ 0.4509804 ,  0.28235295,  0.53333336],\n",
       "        ..., \n",
       "        [ 0.16078432,  0.07450981,  0.16862746],\n",
       "        [ 0.17254902,  0.08627451,  0.18431373],\n",
       "        [ 0.17647059,  0.08627451,  0.1882353 ]],\n",
       "\n",
       "       [[ 0.43529412,  0.27450982,  0.50980395],\n",
       "        [ 0.44705883,  0.28235295,  0.51372552],\n",
       "        [ 0.4509804 ,  0.27843139,  0.51372552],\n",
       "        ..., \n",
       "        [ 0.15686275,  0.07843138,  0.16078432],\n",
       "        [ 0.16470589,  0.08235294,  0.17647059],\n",
       "        [ 0.18039216,  0.09019608,  0.19215687]]], dtype=float32)"
      ]
     },
     "execution_count": 43,
     "metadata": {},
     "output_type": "execute_result"
    }
   ],
   "source": [
    "from scipy import misc\n",
    "misc.imread('peppers.png')\n",
    "\n",
    "import matplotlib.pyplot as plt\n",
    "plt.imread('peppers.png')"
   ]
  },
  {
   "cell_type": "code",
   "execution_count": 48,
   "metadata": {
    "collapsed": false
   },
   "outputs": [],
   "source": []
  },
  {
   "cell_type": "code",
   "execution_count": null,
   "metadata": {
    "collapsed": true
   },
   "outputs": [],
   "source": []
  },
  {
   "cell_type": "code",
   "execution_count": null,
   "metadata": {
    "collapsed": true
   },
   "outputs": [],
   "source": []
  }
 ],
 "metadata": {
  "kernelspec": {
   "display_name": "Python 3",
   "language": "python",
   "name": "python3"
  },
  "language_info": {
   "codemirror_mode": {
    "name": "ipython",
    "version": 3
   },
   "file_extension": ".py",
   "mimetype": "text/x-python",
   "name": "python",
   "nbconvert_exporter": "python",
   "pygments_lexer": "ipython3",
   "version": "3.4.3"
  }
 },
 "nbformat": 4,
 "nbformat_minor": 0
}
